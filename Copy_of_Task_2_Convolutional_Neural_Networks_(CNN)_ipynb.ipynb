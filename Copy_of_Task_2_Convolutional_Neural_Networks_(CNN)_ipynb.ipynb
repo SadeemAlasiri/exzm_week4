{
  "cells": [
    {
      "cell_type": "markdown",
      "metadata": {
        "id": "view-in-github",
        "colab_type": "text"
      },
      "source": [
        "<a href=\"https://colab.research.google.com/github/SadeemAlasiri/exzm_week4/blob/main/Copy_of_Task_2_Convolutional_Neural_Networks_(CNN)_ipynb.ipynb\" target=\"_parent\"><img src=\"https://colab.research.google.com/assets/colab-badge.svg\" alt=\"Open In Colab\"/></a>"
      ]
    },
    {
      "cell_type": "markdown",
      "id": "69e7471b",
      "metadata": {
        "id": "69e7471b"
      },
      "source": [
        "# Exam on Convolutional Neural Networks (CNN)\n",
        "\n",
        "Welcome to the Convolutional Neural Networks (CNN) practical exam. In this exam, you will work on an image classification task to predict the type of traffic sign. You are provided with a dataset of traffic sign images, and your task is to build, train, and evaluate a CNN model.\n",
        "\n",
        "---\n",
        "\n",
        "## Dataset Overview\n",
        "### **Dataset:**\n",
        "* Just run the command under the `Load Data` section to get the data downloaded and unzipped or you can access it [here](https://drive.google.com/file/d/1HwMV-Lt_sWoxc5v6igmTxTwomS3DR6cQ/view?usp=sharing)\n",
        "### **Dataset Name:** Traffic Signs\n",
        "\n",
        "### **Description:**  \n",
        "The dataset contains images of various German traffic signs labeled for classification purposes. Each image belongs to one of the 43 classes, representing different types of traffic signs.\n",
        "\n",
        "### **Labels:**\n",
        "```python\n",
        "classes = {\n",
        "    0:  'Speed limit (20km/h)',\n",
        "    1:  'Speed limit (30km/h)',\n",
        "    2:  'Speed limit (50km/h)',\n",
        "    3:  'Speed limit (60km/h)',\n",
        "    4:  'Speed limit (70km/h)',\n",
        "    5:  'Speed limit (80km/h)',\n",
        "    6:  'End of speed limit (80km/h)',\n",
        "    7:  'Speed limit (100km/h)',\n",
        "    8:  'Speed limit (120km/h)',\n",
        "    9:  'No passing',\n",
        "    10: 'No passing veh over 3.5 tons',\n",
        "    11: 'Right-of-way at intersection',\n",
        "    12: 'Priority road',\n",
        "    13: 'Yield',\n",
        "    14: 'Stop',\n",
        "    15: 'No vehicles',\n",
        "    16: 'Veh > 3.5 tons prohibited',\n",
        "    17: 'No entry',\n",
        "    18: 'General caution',\n",
        "    19: 'Dangerous curve left',\n",
        "    20: 'Dangerous curve right',\n",
        "    21: 'Double curve',\n",
        "    22: 'Bumpy road',\n",
        "    23: 'Slippery road',\n",
        "    24: 'Road narrows on the right',\n",
        "    25: 'Road work',\n",
        "    26: 'Traffic signals',\n",
        "    27: 'Pedestrians',\n",
        "    28: 'Children crossing',\n",
        "    29: 'Bicycles crossing',\n",
        "    30: 'Beware of ice/snow',\n",
        "    31: 'Wild animals crossing',\n",
        "    32: 'End speed + passing limits',\n",
        "    33: 'Turn right ahead',\n",
        "    34: 'Turn left ahead',\n",
        "    35: 'Ahead only',\n",
        "    36: 'Go straight or right',\n",
        "    37: 'Go straight or left',\n",
        "    38: 'Keep right',\n",
        "    39: 'Keep left',\n",
        "    40: 'Roundabout mandatory',\n",
        "    41: 'End of no passing',\n",
        "    42: 'End no passing veh > 3.5 tons'\n",
        "}\n",
        "```\n",
        "\n"
      ]
    },
    {
      "cell_type": "markdown",
      "id": "66c6f645",
      "metadata": {
        "id": "66c6f645"
      },
      "source": [
        "## Load Data\n",
        "Run the following command to get the data and unzip it, alternatively you can access the data [here](https://drive.google.com/file/d/1HwMV-Lt_sWoxc5v6igmTxTwomS3DR6cQ/view?usp=sharing)."
      ]
    },
    {
      "cell_type": "code",
      "execution_count": null,
      "id": "ee08de6b",
      "metadata": {
        "id": "ee08de6b",
        "colab": {
          "base_uri": "https://localhost:8080/"
        },
        "outputId": "fea0f442-b77f-43fa-fdc3-8d5051eb1aa1"
      },
      "outputs": [
        {
          "output_type": "stream",
          "name": "stdout",
          "text": [
            "Requirement already satisfied: gdown in /usr/local/lib/python3.10/dist-packages (5.1.0)\n",
            "Requirement already satisfied: beautifulsoup4 in /usr/local/lib/python3.10/dist-packages (from gdown) (4.12.3)\n",
            "Requirement already satisfied: filelock in /usr/local/lib/python3.10/dist-packages (from gdown) (3.15.4)\n",
            "Requirement already satisfied: requests[socks] in /usr/local/lib/python3.10/dist-packages (from gdown) (2.32.3)\n",
            "Requirement already satisfied: tqdm in /usr/local/lib/python3.10/dist-packages (from gdown) (4.66.5)\n",
            "Requirement already satisfied: soupsieve>1.2 in /usr/local/lib/python3.10/dist-packages (from beautifulsoup4->gdown) (2.5)\n",
            "Requirement already satisfied: charset-normalizer<4,>=2 in /usr/local/lib/python3.10/dist-packages (from requests[socks]->gdown) (3.3.2)\n",
            "Requirement already satisfied: idna<4,>=2.5 in /usr/local/lib/python3.10/dist-packages (from requests[socks]->gdown) (3.7)\n",
            "Requirement already satisfied: urllib3<3,>=1.21.1 in /usr/local/lib/python3.10/dist-packages (from requests[socks]->gdown) (2.0.7)\n",
            "Requirement already satisfied: certifi>=2017.4.17 in /usr/local/lib/python3.10/dist-packages (from requests[socks]->gdown) (2024.7.4)\n",
            "Requirement already satisfied: PySocks!=1.5.7,>=1.5.6 in /usr/local/lib/python3.10/dist-packages (from requests[socks]->gdown) (1.7.1)\n",
            "/usr/local/lib/python3.10/dist-packages/gdown/__main__.py:132: FutureWarning: Option `--id` was deprecated in version 4.3.1 and will be removed in 5.0. You don't need to pass it anymore to use a file ID.\n",
            "  warnings.warn(\n",
            "Failed to retrieve file url:\n",
            "\n",
            "\tToo many users have viewed or downloaded this file recently. Please\n",
            "\ttry accessing the file again later. If the file you are trying to\n",
            "\taccess is particularly large or is shared with many people, it may\n",
            "\ttake up to 24 hours to be able to view or download the file. If you\n",
            "\tstill can't access a file after 24 hours, contact your domain\n",
            "\tadministrator.\n",
            "\n",
            "You may still be able to access the file from the browser:\n",
            "\n",
            "\thttps://drive.google.com/uc?id=1HwMV-Lt_sWoxc5v6igmTxTwomS3DR6cQ\n",
            "\n",
            "but Gdown can't. Please check connections and permissions.\n",
            "Archive:  Traffic_Signs.zip\n",
            "replace Traffic_Signs/Dataset_MetaData.csv? [y]es, [n]o, [A]ll, [N]one, [r]ename: "
          ]
        }
      ],
      "source": [
        "#https://drive.google.com/file/d/1HwMV-Lt_sWoxc5v6igmTxTwomS3DR6cQ/view?usp=sharing\n",
        "!pip install gdown\n",
        "!gdown --id 1HwMV-Lt_sWoxc5v6igmTxTwomS3DR6cQ\n",
        "!unzip Traffic_Signs.zip"
      ]
    },
    {
      "cell_type": "markdown",
      "id": "9bb9f30e",
      "metadata": {
        "id": "9bb9f30e"
      },
      "source": [
        "## Import Libraries"
      ]
    },
    {
      "cell_type": "code",
      "execution_count": 1,
      "id": "22207f85",
      "metadata": {
        "id": "22207f85"
      },
      "outputs": [],
      "source": [
        "import pandas as pd\n",
        "import seaborn as sns\n",
        "import numpy as np\n",
        "import matplotlib.pyplot as plt\n",
        "import os\n",
        "from sklearn.model_selection import train_test_split\n",
        "from sklearn.metrics import accuracy_score, classification_report, confusion_matrix\n",
        "from sklearn.metrics import accuracy_score,precision_score,recall_score,f1_score,confusion_matrix\n",
        "import tensorflow as tf\n",
        "from tensorflow.keras.models import Sequential\n",
        "from tensorflow.keras.optimizers import Adam\n",
        "from keras.layers import Conv2D, MaxPooling2D, Flatten, Dense, Dropout, BatchNormalization\n",
        "from tensorflow.keras.preprocessing.image import ImageDataGenerator"
      ]
    },
    {
      "cell_type": "code",
      "source": [
        "from google.colab import drive\n",
        "drive.mount('/content/drive')"
      ],
      "metadata": {
        "colab": {
          "base_uri": "https://localhost:8080/"
        },
        "id": "bf86CGL-Rd48",
        "outputId": "bc5f1a31-48a9-4152-e476-3380493163eb"
      },
      "id": "bf86CGL-Rd48",
      "execution_count": 2,
      "outputs": [
        {
          "output_type": "stream",
          "name": "stdout",
          "text": [
            "Drive already mounted at /content/drive; to attempt to forcibly remount, call drive.mount(\"/content/drive\", force_remount=True).\n"
          ]
        }
      ]
    },
    {
      "cell_type": "code",
      "source": [
        "from PIL import Image\n",
        "\n",
        "def load_and_resize_image(filepath):\n",
        "    full_path = os.path.join(filepath)\n",
        "    image = Image.open(full_path).convert('RGB')\n",
        "    image = image.resize((100, 100))\n",
        "    return np.array(image)\n",
        "\n",
        "\n",
        "def load_images_with_labels(base_folder):\n",
        "\n",
        "    labels =range(0,43)\n",
        "\n",
        "    img = []\n",
        "    labels_f = []\n",
        "    for label in labels:\n",
        "        folder_path = os.path.join(base_folder,str(label))\n",
        "        for filename in os.listdir(folder_path):\n",
        "            img_path = os.path.join(folder_path, filename)\n",
        "            img.append(load_and_resize_image(img_path))\n",
        "            labels_f.append(label)\n",
        "\n",
        "    img = np.array(img)\n",
        "    labels_f = np.array(labels_f)\n",
        "\n",
        "    return img, labels_f\n",
        "\n",
        "\n",
        "\n",
        "\n",
        "X, y = load_images_with_labels('/content/Traffic_Signs/Dataset')"
      ],
      "metadata": {
        "id": "7cHMbkuVQEXm"
      },
      "id": "7cHMbkuVQEXm",
      "execution_count": 3,
      "outputs": []
    },
    {
      "cell_type": "code",
      "source": [
        "X"
      ],
      "metadata": {
        "colab": {
          "base_uri": "https://localhost:8080/"
        },
        "id": "e-hwByQLS1YQ",
        "outputId": "2128cb66-0718-4bed-a032-442a2f3d4c37"
      },
      "id": "e-hwByQLS1YQ",
      "execution_count": null,
      "outputs": [
        {
          "output_type": "execute_result",
          "data": {
            "text/plain": [
              "array([[[[ 44,  41,  50],\n",
              "         [ 60,  77,  93],\n",
              "         [ 53,  75,  76],\n",
              "         ...,\n",
              "         [ 96,  77,  84],\n",
              "         [ 93, 105, 120],\n",
              "         [ 84, 104, 113]],\n",
              "\n",
              "        [[ 37,  33,  34],\n",
              "         [ 30,  36,  35],\n",
              "         [ 37,  43,  32],\n",
              "         ...,\n",
              "         [ 74,  64,  68],\n",
              "         [ 90,  71,  82],\n",
              "         [ 92, 101, 100]],\n",
              "\n",
              "        [[123,  96, 103],\n",
              "         [ 87,  81,  75],\n",
              "         [ 33,  34,  29],\n",
              "         ...,\n",
              "         [ 66,  57,  46],\n",
              "         [109,  66,  45],\n",
              "         [171, 160, 115]],\n",
              "\n",
              "        ...,\n",
              "\n",
              "        [[ 55,  66,  58],\n",
              "         [ 75, 107, 109],\n",
              "         [ 59,  84, 108],\n",
              "         ...,\n",
              "         [108, 122, 121],\n",
              "         [185, 183, 172],\n",
              "         [234, 230, 212]],\n",
              "\n",
              "        [[ 34,  39,  36],\n",
              "         [ 52,  72,  72],\n",
              "         [ 67,  70,  86],\n",
              "         ...,\n",
              "         [167, 135, 128],\n",
              "         [211, 180, 164],\n",
              "         [190, 191, 171]],\n",
              "\n",
              "        [[ 26,  29,  28],\n",
              "         [ 24,  33,  32],\n",
              "         [ 41,  39,  38],\n",
              "         ...,\n",
              "         [111,  73,  75],\n",
              "         [115,  80,  85],\n",
              "         [ 95,  86,  91]]],\n",
              "\n",
              "\n",
              "       [[[136, 127, 123],\n",
              "         [100,  92,  91],\n",
              "         [ 89,  80,  81],\n",
              "         ...,\n",
              "         [ 64,  70,  80],\n",
              "         [ 61,  67,  77],\n",
              "         [ 58,  65,  74]],\n",
              "\n",
              "        [[153, 129, 124],\n",
              "         [125, 108, 111],\n",
              "         [110,  97, 102],\n",
              "         ...,\n",
              "         [ 64,  71,  80],\n",
              "         [ 60,  69,  79],\n",
              "         [ 57,  66,  77]],\n",
              "\n",
              "        [[184, 145, 140],\n",
              "         [153, 125, 123],\n",
              "         [119, 102, 102],\n",
              "         ...,\n",
              "         [ 65,  73,  83],\n",
              "         [ 59,  72,  81],\n",
              "         [ 56,  68,  77]],\n",
              "\n",
              "        ...,\n",
              "\n",
              "        [[ 80,  67,  60],\n",
              "         [ 78,  65,  58],\n",
              "         [ 80,  68,  61],\n",
              "         ...,\n",
              "         [ 34,  31,  23],\n",
              "         [ 34,  29,  22],\n",
              "         [ 32,  28,  19]],\n",
              "\n",
              "        [[ 82,  65,  58],\n",
              "         [ 81,  64,  57],\n",
              "         [ 81,  64,  57],\n",
              "         ...,\n",
              "         [ 34,  30,  31],\n",
              "         [ 35,  30,  31],\n",
              "         [ 36,  31,  31]],\n",
              "\n",
              "        [[ 89,  66,  58],\n",
              "         [ 88,  65,  59],\n",
              "         [ 88,  65,  58],\n",
              "         ...,\n",
              "         [ 43,  39,  38],\n",
              "         [ 44,  39,  38],\n",
              "         [ 44,  39,  37]]],\n",
              "\n",
              "\n",
              "       [[[167,  84,  83],\n",
              "         [162,  77,  74],\n",
              "         [149,  57,  52],\n",
              "         ...,\n",
              "         [163,  49,  39],\n",
              "         [166,  55,  39],\n",
              "         [167,  59,  39]],\n",
              "\n",
              "        [[164,  78,  78],\n",
              "         [160,  72,  70],\n",
              "         [149,  55,  50],\n",
              "         ...,\n",
              "         [161,  49,  39],\n",
              "         [163,  54,  38],\n",
              "         [164,  57,  38]],\n",
              "\n",
              "        [[157,  64,  67],\n",
              "         [154,  60,  60],\n",
              "         [148,  49,  46],\n",
              "         ...,\n",
              "         [156,  48,  38],\n",
              "         [155,  50,  35],\n",
              "         [155,  51,  34]],\n",
              "\n",
              "        ...,\n",
              "\n",
              "        [[201, 255, 255],\n",
              "         [182, 242, 246],\n",
              "         [135, 169, 175],\n",
              "         ...,\n",
              "         [255, 255, 255],\n",
              "         [255, 255, 255],\n",
              "         [255, 255, 255]],\n",
              "\n",
              "        [[188, 255, 255],\n",
              "         [175, 233, 241],\n",
              "         [140, 171, 178],\n",
              "         ...,\n",
              "         [255, 255, 255],\n",
              "         [255, 255, 255],\n",
              "         [255, 255, 255]],\n",
              "\n",
              "        [[184, 255, 255],\n",
              "         [173, 230, 240],\n",
              "         [142, 172, 180],\n",
              "         ...,\n",
              "         [255, 255, 255],\n",
              "         [255, 255, 255],\n",
              "         [255, 255, 255]]],\n",
              "\n",
              "\n",
              "       ...,\n",
              "\n",
              "\n",
              "       [[[123, 130, 121],\n",
              "         [120, 126, 116],\n",
              "         [112, 116, 103],\n",
              "         ...,\n",
              "         [ 76,  78,  74],\n",
              "         [ 74,  73,  67],\n",
              "         [ 73,  72,  64]],\n",
              "\n",
              "        [[125, 132, 124],\n",
              "         [122, 128, 119],\n",
              "         [114, 119, 106],\n",
              "         ...,\n",
              "         [ 75,  76,  73],\n",
              "         [ 73,  72,  66],\n",
              "         [ 72,  71,  63]],\n",
              "\n",
              "        [[130, 137, 130],\n",
              "         [127, 133, 125],\n",
              "         [120, 125, 112],\n",
              "         ...,\n",
              "         [ 71,  72,  71],\n",
              "         [ 70,  68,  64],\n",
              "         [ 69,  67,  61]],\n",
              "\n",
              "        ...,\n",
              "\n",
              "        [[ 74,  76,  72],\n",
              "         [ 74,  76,  72],\n",
              "         [ 74,  76,  72],\n",
              "         ...,\n",
              "         [101,  94,  87],\n",
              "         [102,  94,  87],\n",
              "         [102,  94,  87]],\n",
              "\n",
              "        [[ 79,  80,  74],\n",
              "         [ 79,  80,  74],\n",
              "         [ 78,  79,  73],\n",
              "         ...,\n",
              "         [100,  92,  86],\n",
              "         [100,  92,  86],\n",
              "         [100,  92,  86]],\n",
              "\n",
              "        [[ 81,  81,  75],\n",
              "         [ 81,  81,  75],\n",
              "         [ 79,  80,  73],\n",
              "         ...,\n",
              "         [100,  91,  86],\n",
              "         [ 99,  91,  86],\n",
              "         [ 99,  91,  86]]],\n",
              "\n",
              "\n",
              "       [[[ 11,  11,  12],\n",
              "         [ 11,  11,  12],\n",
              "         [ 11,  11,  13],\n",
              "         ...,\n",
              "         [ 13,  12,  14],\n",
              "         [ 12,  11,  13],\n",
              "         [ 12,  11,  13]],\n",
              "\n",
              "        [[ 11,  11,  12],\n",
              "         [ 11,  11,  12],\n",
              "         [ 11,  11,  13],\n",
              "         ...,\n",
              "         [ 13,  12,  14],\n",
              "         [ 12,  11,  13],\n",
              "         [ 12,  11,  13]],\n",
              "\n",
              "        [[ 12,  12,  13],\n",
              "         [ 12,  12,  13],\n",
              "         [ 12,  11,  14],\n",
              "         ...,\n",
              "         [ 14,  13,  16],\n",
              "         [ 13,  12,  15],\n",
              "         [ 13,  12,  15]],\n",
              "\n",
              "        ...,\n",
              "\n",
              "        [[ 19,  22,  27],\n",
              "         [ 18,  21,  26],\n",
              "         [ 14,  17,  22],\n",
              "         ...,\n",
              "         [ 15,  14,  17],\n",
              "         [ 14,  14,  17],\n",
              "         [ 14,  14,  17]],\n",
              "\n",
              "        [[ 21,  24,  29],\n",
              "         [ 20,  23,  28],\n",
              "         [ 16,  18,  24],\n",
              "         ...,\n",
              "         [ 14,  13,  16],\n",
              "         [ 15,  15,  18],\n",
              "         [ 15,  15,  19]],\n",
              "\n",
              "        [[ 22,  25,  30],\n",
              "         [ 21,  24,  29],\n",
              "         [ 16,  18,  25],\n",
              "         ...,\n",
              "         [ 14,  13,  16],\n",
              "         [ 15,  15,  18],\n",
              "         [ 15,  15,  19]]],\n",
              "\n",
              "\n",
              "       [[[ 22,  23,  24],\n",
              "         [ 22,  23,  24],\n",
              "         [ 22,  23,  24],\n",
              "         ...,\n",
              "         [ 23,  21,  22],\n",
              "         [ 23,  21,  22],\n",
              "         [ 23,  21,  22]],\n",
              "\n",
              "        [[ 22,  23,  24],\n",
              "         [ 22,  23,  24],\n",
              "         [ 22,  23,  24],\n",
              "         ...,\n",
              "         [ 23,  21,  22],\n",
              "         [ 23,  21,  22],\n",
              "         [ 23,  21,  22]],\n",
              "\n",
              "        [[ 22,  23,  24],\n",
              "         [ 22,  23,  24],\n",
              "         [ 22,  23,  24],\n",
              "         ...,\n",
              "         [ 23,  21,  22],\n",
              "         [ 23,  21,  22],\n",
              "         [ 23,  21,  22]],\n",
              "\n",
              "        ...,\n",
              "\n",
              "        [[ 32,  29,  25],\n",
              "         [ 32,  29,  25],\n",
              "         [ 32,  29,  25],\n",
              "         ...,\n",
              "         [ 22,  20,  17],\n",
              "         [ 22,  19,  17],\n",
              "         [ 22,  19,  17]],\n",
              "\n",
              "        [[ 33,  29,  25],\n",
              "         [ 33,  29,  25],\n",
              "         [ 33,  29,  25],\n",
              "         ...,\n",
              "         [ 22,  20,  17],\n",
              "         [ 22,  19,  17],\n",
              "         [ 22,  19,  17]],\n",
              "\n",
              "        [[ 33,  29,  25],\n",
              "         [ 33,  29,  25],\n",
              "         [ 33,  29,  25],\n",
              "         ...,\n",
              "         [ 22,  20,  17],\n",
              "         [ 22,  19,  17],\n",
              "         [ 22,  19,  17]]]], dtype=uint8)"
            ]
          },
          "metadata": {},
          "execution_count": 5
        }
      ]
    },
    {
      "cell_type": "code",
      "source": [
        "y"
      ],
      "metadata": {
        "colab": {
          "base_uri": "https://localhost:8080/"
        },
        "id": "iKzpyIioS3sQ",
        "outputId": "116c0fbe-3cb0-4676-eb0a-7219c66582a2"
      },
      "id": "iKzpyIioS3sQ",
      "execution_count": null,
      "outputs": [
        {
          "output_type": "execute_result",
          "data": {
            "text/plain": [
              "array([ 0,  0,  0, ..., 42, 42, 42])"
            ]
          },
          "metadata": {},
          "execution_count": 6
        }
      ]
    },
    {
      "cell_type": "code",
      "source": [
        "from sklearn.preprocessing import LabelEncoder\n",
        "\n",
        "label_encoder = LabelEncoder()\n",
        "y_encoded = label_encoder.fit_transform(y)"
      ],
      "metadata": {
        "id": "QVShWfk2SIPs"
      },
      "id": "QVShWfk2SIPs",
      "execution_count": 4,
      "outputs": []
    },
    {
      "cell_type": "markdown",
      "id": "541f3c2b",
      "metadata": {
        "id": "541f3c2b"
      },
      "source": [
        "## Data Splitting\n",
        "In this section, we will split our dataset into three parts:\n",
        "\n",
        "* Training set (70%).\n",
        "* Validation set (15%).\n",
        "* Test set (15%)."
      ]
    },
    {
      "cell_type": "code",
      "source": [
        "X_train, X_test, y_train, y_test = train_test_split(X,y_encoded, test_size=0.2, shuffle=True)"
      ],
      "metadata": {
        "id": "IZ4Cf22tSSSL"
      },
      "id": "IZ4Cf22tSSSL",
      "execution_count": 5,
      "outputs": []
    },
    {
      "cell_type": "code",
      "source": [
        "X_train.shape"
      ],
      "metadata": {
        "colab": {
          "base_uri": "https://localhost:8080/"
        },
        "id": "w9vkhr7fiJ4s",
        "outputId": "34d921d5-8e56-4337-ab5a-f3750f8c452b"
      },
      "id": "w9vkhr7fiJ4s",
      "execution_count": null,
      "outputs": [
        {
          "output_type": "execute_result",
          "data": {
            "text/plain": [
              "(31367, 100, 100, 3)"
            ]
          },
          "metadata": {},
          "execution_count": 9
        }
      ]
    },
    {
      "cell_type": "code",
      "source": [
        "X_test.shape"
      ],
      "metadata": {
        "colab": {
          "base_uri": "https://localhost:8080/"
        },
        "id": "S-CR5yDIipY7",
        "outputId": "b580b33c-6052-42a2-e41c-9b52c3e98900"
      },
      "id": "S-CR5yDIipY7",
      "execution_count": null,
      "outputs": [
        {
          "output_type": "execute_result",
          "data": {
            "text/plain": [
              "(7842, 100, 100, 3)"
            ]
          },
          "metadata": {},
          "execution_count": 10
        }
      ]
    },
    {
      "cell_type": "code",
      "source": [
        "y_train.shape"
      ],
      "metadata": {
        "colab": {
          "base_uri": "https://localhost:8080/"
        },
        "id": "dFI_FlkEisjd",
        "outputId": "d6ee6d92-45b1-4627-b466-828df36f6c45"
      },
      "id": "dFI_FlkEisjd",
      "execution_count": null,
      "outputs": [
        {
          "output_type": "execute_result",
          "data": {
            "text/plain": [
              "(31367,)"
            ]
          },
          "metadata": {},
          "execution_count": 11
        }
      ]
    },
    {
      "cell_type": "code",
      "source": [
        "X_train\n"
      ],
      "metadata": {
        "colab": {
          "base_uri": "https://localhost:8080/"
        },
        "id": "7z1YR_Y_j6UI",
        "outputId": "bbe6d2b9-5125-45f3-9f68-5779cbc47b06"
      },
      "id": "7z1YR_Y_j6UI",
      "execution_count": null,
      "outputs": [
        {
          "output_type": "execute_result",
          "data": {
            "text/plain": [
              "array([[[[ 49,  46,  38],\n",
              "         [ 49,  47,  38],\n",
              "         [ 50,  49,  39],\n",
              "         ...,\n",
              "         [ 45,  30,  22],\n",
              "         [ 37,  26,  18],\n",
              "         [ 34,  24,  17]],\n",
              "\n",
              "        [[ 48,  45,  36],\n",
              "         [ 48,  46,  37],\n",
              "         [ 49,  48,  38],\n",
              "         ...,\n",
              "         [ 46,  31,  23],\n",
              "         [ 38,  28,  19],\n",
              "         [ 36,  27,  18]],\n",
              "\n",
              "        [[ 43,  41,  31],\n",
              "         [ 43,  42,  31],\n",
              "         [ 45,  44,  32],\n",
              "         ...,\n",
              "         [ 49,  35,  26],\n",
              "         [ 43,  33,  22],\n",
              "         [ 41,  32,  21]],\n",
              "\n",
              "        ...,\n",
              "\n",
              "        [[ 45,  38,  29],\n",
              "         [ 45,  38,  29],\n",
              "         [ 46,  39,  31],\n",
              "         ...,\n",
              "         [ 40,  31,  28],\n",
              "         [ 39,  30,  27],\n",
              "         [ 39,  30,  27]],\n",
              "\n",
              "        [[ 40,  34,  26],\n",
              "         [ 40,  34,  26],\n",
              "         [ 41,  34,  27],\n",
              "         ...,\n",
              "         [ 41,  31,  27],\n",
              "         [ 40,  31,  27],\n",
              "         [ 40,  31,  27]],\n",
              "\n",
              "        [[ 38,  33,  25],\n",
              "         [ 38,  33,  25],\n",
              "         [ 39,  33,  26],\n",
              "         ...,\n",
              "         [ 41,  31,  27],\n",
              "         [ 40,  31,  27],\n",
              "         [ 40,  31,  27]]],\n",
              "\n",
              "\n",
              "       [[[ 10,   9,  11],\n",
              "         [ 10,   9,  11],\n",
              "         [ 10,   9,  11],\n",
              "         ...,\n",
              "         [ 10,  10,  12],\n",
              "         [ 10,  10,  12],\n",
              "         [ 10,  10,  12]],\n",
              "\n",
              "        [[ 10,   9,  11],\n",
              "         [ 10,   9,  11],\n",
              "         [ 10,   9,  11],\n",
              "         ...,\n",
              "         [ 10,  10,  12],\n",
              "         [ 10,  10,  12],\n",
              "         [ 10,  10,  12]],\n",
              "\n",
              "        [[ 10,   9,  11],\n",
              "         [ 10,   9,  11],\n",
              "         [ 10,   9,  11],\n",
              "         ...,\n",
              "         [ 10,  10,  12],\n",
              "         [ 10,  10,  12],\n",
              "         [ 10,  10,  12]],\n",
              "\n",
              "        ...,\n",
              "\n",
              "        [[  7,   7,   9],\n",
              "         [  7,   7,   9],\n",
              "         [  7,   7,   9],\n",
              "         ...,\n",
              "         [  9,   8,  11],\n",
              "         [  9,   8,  11],\n",
              "         [  9,   8,  11]],\n",
              "\n",
              "        [[  7,   7,   9],\n",
              "         [  7,   7,   9],\n",
              "         [  7,   7,   9],\n",
              "         ...,\n",
              "         [  9,   8,  11],\n",
              "         [  9,   8,  11],\n",
              "         [  9,   8,  11]],\n",
              "\n",
              "        [[  7,   7,   9],\n",
              "         [  7,   7,   9],\n",
              "         [  7,   7,   9],\n",
              "         ...,\n",
              "         [  9,   8,  11],\n",
              "         [  9,   8,  11],\n",
              "         [  9,   8,  11]]],\n",
              "\n",
              "\n",
              "       [[[255, 255, 255],\n",
              "         [255, 255, 255],\n",
              "         [255, 255, 255],\n",
              "         ...,\n",
              "         [255, 255, 255],\n",
              "         [255, 255, 255],\n",
              "         [255, 255, 255]],\n",
              "\n",
              "        [[255, 255, 255],\n",
              "         [255, 255, 255],\n",
              "         [255, 255, 255],\n",
              "         ...,\n",
              "         [255, 255, 255],\n",
              "         [255, 255, 255],\n",
              "         [255, 255, 255]],\n",
              "\n",
              "        [[255, 255, 255],\n",
              "         [255, 255, 255],\n",
              "         [255, 255, 255],\n",
              "         ...,\n",
              "         [255, 255, 255],\n",
              "         [255, 255, 255],\n",
              "         [255, 255, 255]],\n",
              "\n",
              "        ...,\n",
              "\n",
              "        [[ 40,  36,  32],\n",
              "         [ 41,  37,  35],\n",
              "         [ 45,  42,  43],\n",
              "         ...,\n",
              "         [ 50,  52,  59],\n",
              "         [ 50,  52,  59],\n",
              "         [ 50,  52,  59]],\n",
              "\n",
              "        [[ 39,  36,  32],\n",
              "         [ 40,  37,  35],\n",
              "         [ 45,  42,  43],\n",
              "         ...,\n",
              "         [ 50,  51,  59],\n",
              "         [ 50,  51,  59],\n",
              "         [ 50,  51,  59]],\n",
              "\n",
              "        [[ 39,  36,  32],\n",
              "         [ 40,  37,  35],\n",
              "         [ 45,  42,  43],\n",
              "         ...,\n",
              "         [ 50,  51,  59],\n",
              "         [ 50,  51,  59],\n",
              "         [ 50,  51,  59]]],\n",
              "\n",
              "\n",
              "       ...,\n",
              "\n",
              "\n",
              "       [[[ 79,  39,  41],\n",
              "         [ 78,  38,  41],\n",
              "         [ 78,  37,  41],\n",
              "         ...,\n",
              "         [ 76,  39,  44],\n",
              "         [ 74,  38,  43],\n",
              "         [ 73,  38,  43]],\n",
              "\n",
              "        [[ 79,  39,  43],\n",
              "         [ 78,  38,  42],\n",
              "         [ 79,  38,  43],\n",
              "         ...,\n",
              "         [ 74,  36,  44],\n",
              "         [ 72,  37,  44],\n",
              "         [ 71,  36,  43]],\n",
              "\n",
              "        [[ 79,  38,  43],\n",
              "         [ 79,  39,  43],\n",
              "         [ 79,  39,  43],\n",
              "         ...,\n",
              "         [ 72,  36,  41],\n",
              "         [ 71,  36,  40],\n",
              "         [ 69,  35,  39]],\n",
              "\n",
              "        ...,\n",
              "\n",
              "        [[ 44,  48,  51],\n",
              "         [ 44,  49,  50],\n",
              "         [ 42,  49,  49],\n",
              "         ...,\n",
              "         [108, 100, 100],\n",
              "         [ 94,  91,  84],\n",
              "         [ 63,  64,  51]],\n",
              "\n",
              "        [[ 43,  49,  49],\n",
              "         [ 43,  49,  50],\n",
              "         [ 38,  45,  47],\n",
              "         ...,\n",
              "         [111, 101,  90],\n",
              "         [ 86,  80,  71],\n",
              "         [ 70,  70,  61]],\n",
              "\n",
              "        [[ 39,  43,  41],\n",
              "         [ 39,  43,  44],\n",
              "         [ 36,  40,  43],\n",
              "         ...,\n",
              "         [ 91,  82,  63],\n",
              "         [ 77,  66,  54],\n",
              "         [ 74,  72,  65]]],\n",
              "\n",
              "\n",
              "       [[[145, 115,  91],\n",
              "         [146, 116,  94],\n",
              "         [149, 119, 101],\n",
              "         ...,\n",
              "         [102,  86,  74],\n",
              "         [ 91,  80,  69],\n",
              "         [ 86,  77,  67]],\n",
              "\n",
              "        [[142, 113,  91],\n",
              "         [143, 114,  94],\n",
              "         [145, 117,  99],\n",
              "         ...,\n",
              "         [100,  85,  74],\n",
              "         [ 89,  78,  69],\n",
              "         [ 84,  75,  67]],\n",
              "\n",
              "        [[134, 110,  89],\n",
              "         [135, 111,  91],\n",
              "         [137, 113,  95],\n",
              "         ...,\n",
              "         [ 97,  82,  73],\n",
              "         [ 85,  75,  68],\n",
              "         [ 81,  72,  65]],\n",
              "\n",
              "        ...,\n",
              "\n",
              "        [[ 89,  80,  82],\n",
              "         [ 89,  80,  83],\n",
              "         [ 89,  80,  84],\n",
              "         ...,\n",
              "         [ 92,  80,  65],\n",
              "         [101,  91,  73],\n",
              "         [106,  96,  76]],\n",
              "\n",
              "        [[ 86,  78,  81],\n",
              "         [ 86,  79,  82],\n",
              "         [ 88,  81,  85],\n",
              "         ...,\n",
              "         [101,  87,  74],\n",
              "         [109,  96,  81],\n",
              "         [112, 101,  84]],\n",
              "\n",
              "        [[ 85,  78,  81],\n",
              "         [ 85,  79,  82],\n",
              "         [ 88,  81,  85],\n",
              "         ...,\n",
              "         [105,  90,  77],\n",
              "         [112,  98,  84],\n",
              "         [115, 103,  87]]],\n",
              "\n",
              "\n",
              "       [[[ 66,  64,  67],\n",
              "         [ 66,  64,  64],\n",
              "         [ 65,  63,  66],\n",
              "         ...,\n",
              "         [ 65,  68,  71],\n",
              "         [ 64,  67,  71],\n",
              "         [ 65,  68,  73]],\n",
              "\n",
              "        [[ 64,  62,  66],\n",
              "         [ 65,  63,  64],\n",
              "         [ 65,  62,  65],\n",
              "         ...,\n",
              "         [ 64,  68,  72],\n",
              "         [ 64,  68,  73],\n",
              "         [ 66,  69,  75]],\n",
              "\n",
              "        [[ 63,  61,  63],\n",
              "         [ 66,  63,  63],\n",
              "         [ 67,  62,  65],\n",
              "         ...,\n",
              "         [ 67,  71,  74],\n",
              "         [ 63,  68,  72],\n",
              "         [ 70,  72,  77]],\n",
              "\n",
              "        ...,\n",
              "\n",
              "        [[ 63,  61,  64],\n",
              "         [ 62,  62,  66],\n",
              "         [ 59,  61,  65],\n",
              "         ...,\n",
              "         [ 70,  72,  75],\n",
              "         [ 69,  72,  75],\n",
              "         [ 72,  76,  78]],\n",
              "\n",
              "        [[ 63,  63,  65],\n",
              "         [ 63,  63,  66],\n",
              "         [ 63,  63,  66],\n",
              "         ...,\n",
              "         [ 67,  70,  75],\n",
              "         [ 68,  70,  73],\n",
              "         [ 69,  73,  74]],\n",
              "\n",
              "        [[ 62,  65,  66],\n",
              "         [ 65,  65,  67],\n",
              "         [ 65,  63,  66],\n",
              "         ...,\n",
              "         [ 65,  68,  73],\n",
              "         [ 67,  69,  71],\n",
              "         [ 67,  71,  71]]]], dtype=uint8)"
            ]
          },
          "metadata": {},
          "execution_count": 12
        }
      ]
    },
    {
      "cell_type": "markdown",
      "id": "3aa9945d",
      "metadata": {
        "id": "3aa9945d"
      },
      "source": [
        "## Data Preprocessing\n",
        "In this section, preprocess the dataset by:\n",
        "- Loading the images from the file paths.\n",
        "- Resizing the images to a consistent size.\n",
        "- Normalizing pixel values.\n",
        "\n",
        "Add more if needed!"
      ]
    },
    {
      "cell_type": "code",
      "source": [
        "X_train=X_train/255.0"
      ],
      "metadata": {
        "id": "jFaF6ZSHldfO"
      },
      "id": "jFaF6ZSHldfO",
      "execution_count": null,
      "outputs": []
    },
    {
      "cell_type": "code",
      "source": [
        "y_train=y_train/255.0"
      ],
      "metadata": {
        "id": "n28qKEeKnFta"
      },
      "id": "n28qKEeKnFta",
      "execution_count": null,
      "outputs": []
    },
    {
      "cell_type": "code",
      "source": [
        "X_test=X_test/255.0"
      ],
      "metadata": {
        "id": "eX9BXCEGljeD"
      },
      "id": "eX9BXCEGljeD",
      "execution_count": null,
      "outputs": []
    },
    {
      "cell_type": "code",
      "source": [
        "y_test=y_test/255.0"
      ],
      "metadata": {
        "id": "-f8JiOKQnL0w"
      },
      "id": "-f8JiOKQnL0w",
      "execution_count": null,
      "outputs": []
    },
    {
      "cell_type": "code",
      "execution_count": 6,
      "id": "72042d3e",
      "metadata": {
        "id": "72042d3e"
      },
      "outputs": [],
      "source": [
        "datagen = ImageDataGenerator(\n",
        "    rescale = 1/255,\n",
        "    rotation_range = 15,\n",
        "    width_shift_range = 0.1,\n",
        "    height_shift_range = 0.1,\n",
        "    horizontal_flip = True,\n",
        "    zoom_range = 0.2,\n",
        ")\n",
        "datagen.fit(X_train)"
      ]
    },
    {
      "cell_type": "code",
      "source": [
        "plt.figure(figsize=(5, 5))\n",
        "for i in range(10):\n",
        "    plt.imshow(X_train[i])\n",
        "    plt.xticks([])\n",
        "    plt.yticks([])\n",
        "plt.show()"
      ],
      "metadata": {
        "colab": {
          "base_uri": "https://localhost:8080/",
          "height": 422
        },
        "id": "nYdTZLXOePSg",
        "outputId": "8b6c1cde-bbfb-4c78-9eb8-79aa5b745adb"
      },
      "id": "nYdTZLXOePSg",
      "execution_count": null,
      "outputs": [
        {
          "output_type": "display_data",
          "data": {
            "text/plain": [
              "<Figure size 500x500 with 1 Axes>"
            ],
            "image/png": "[encoded data removed]"
          },
          "metadata": {}
        }
      ]
    },
    {
      "cell_type": "code",
      "source": [
        "plt.figure(figsize=(8, 8))\n",
        "for i in range(100):\n",
        "    plt.imshow(X_train[i])\n",
        "    plt.xticks([])\n",
        "    plt.yticks([])\n",
        "plt.show()"
      ],
      "metadata": {
        "colab": {
          "base_uri": "https://localhost:8080/",
          "height": 653
        },
        "id": "PDcE0k_9enu7",
        "outputId": "ddca364d-a792-47d4-859f-5d344caa53c6"
      },
      "id": "PDcE0k_9enu7",
      "execution_count": null,
      "outputs": [
        {
          "output_type": "display_data",
          "data": {
            "text/plain": [
              "<Figure size 800x800 with 1 Axes>"
            ],
            "image/png": "[encoded data removed]"
          },
          "metadata": {}
        }
      ]
    },
    {
      "cell_type": "code",
      "source": [
        "plt.figure(figsize=(8, 8))\n",
        "for i in range(500):\n",
        "    plt.imshow(X_train[i])\n",
        "    plt.xticks([])\n",
        "    plt.yticks([])\n",
        "plt.show()"
      ],
      "metadata": {
        "colab": {
          "base_uri": "https://localhost:8080/",
          "height": 653
        },
        "id": "NEgdBa6Tdpvm",
        "outputId": "f45a4036-7cad-42d6-eee4-e6249f45d128"
      },
      "id": "NEgdBa6Tdpvm",
      "execution_count": null,
      "outputs": [
        {
          "output_type": "display_data",
          "data": {
            "text/plain": [
              "<Figure size 800x800 with 1 Axes>"
            ],
            "image/png": "[encoded data removed]"
          },
          "metadata": {}
        }
      ]
    },
    {
      "cell_type": "markdown",
      "id": "83974596",
      "metadata": {
        "id": "83974596"
      },
      "source": [
        "## Building the CNN Model\n",
        "In this section, define the architecture of the CNN model. The architecture may consist of:\n",
        "- Convolutional layers with max-pooling\n",
        "- Dropout layers\n",
        "- Flatten layer\n",
        "- Dense layers\n",
        "- Output layer\n",
        "\n",
        "Add and remove any of these as needed!"
      ]
    },
    {
      "cell_type": "code",
      "execution_count": 7,
      "id": "977da65a",
      "metadata": {
        "id": "977da65a",
        "colab": {
          "base_uri": "https://localhost:8080/"
        },
        "outputId": "aef7c59a-76b5-49f0-d0d5-d690810c9b3b"
      },
      "outputs": [
        {
          "output_type": "stream",
          "name": "stderr",
          "text": [
            "/usr/local/lib/python3.10/dist-packages/keras/src/layers/convolutional/base_conv.py:107: UserWarning: Do not pass an `input_shape`/`input_dim` argument to a layer. When using Sequential models, prefer using an `Input(shape)` object as the first layer in the model instead.\n",
            "  super().__init__(activity_regularizer=activity_regularizer, **kwargs)\n"
          ]
        }
      ],
      "source": [
        "model = Sequential([\n",
        "    Conv2D(32, (3, 3), padding='same', activation='relu', input_shape=(128,128,3)),\n",
        "    Conv2D(32, (3, 3), activation='relu'),\n",
        "    MaxPooling2D(2,2),\n",
        "    Dropout(0.2),\n",
        "\n",
        "    Conv2D(64, (3, 3), padding='same', activation='relu'),\n",
        "    MaxPooling2D(2,2),\n",
        "    Dropout(0.3),\n",
        "\n",
        "    Flatten(),\n",
        "    Dense(128, activation='relu'),\n",
        "    Dropout(0.5),\n",
        "    Dense(42, activation='softmax')\n",
        "    ])"
      ]
    },
    {
      "cell_type": "code",
      "source": [
        "model.summary()"
      ],
      "metadata": {
        "colab": {
          "base_uri": "https://localhost:8080/",
          "height": 481
        },
        "id": "wF8c_oJwl6M3",
        "outputId": "b83465c9-ea94-4c2c-8a62-f267e1b938cd"
      },
      "id": "wF8c_oJwl6M3",
      "execution_count": 8,
      "outputs": [
        {
          "output_type": "display_data",
          "data": {
            "text/plain": [
              "\u001b[1mModel: \"sequential\"\u001b[0m\n"
            ],
            "text/html": [
              "<pre style=\"white-space:pre;overflow-x:auto;line-height:normal;font-family:Menlo,'DejaVu Sans Mono',consolas,'Courier New',monospace\"><span style=\"font-weight: bold\">Model: \"sequential\"</span>\n",
              "</pre>\n"
            ]
          },
          "metadata": {}
        },
        {
          "output_type": "display_data",
          "data": {
            "text/plain": [
              "┏━━━━━━━━━━━━━━━━━━━━━━━━━━━━━━━━━━━━━━┳━━━━━━━━━━━━━━━━━━━━━━━━━━━━━┳━━━━━━━━━━━━━━━━━┓\n",
              "┃\u001b[1m \u001b[0m\u001b[1mLayer (type)                        \u001b[0m\u001b[1m \u001b[0m┃\u001b[1m \u001b[0m\u001b[1mOutput Shape               \u001b[0m\u001b[1m \u001b[0m┃\u001b[1m \u001b[0m\u001b[1m        Param #\u001b[0m\u001b[1m \u001b[0m┃\n",
              "┡━━━━━━━━━━━━━━━━━━━━━━━━━━━━━━━━━━━━━━╇━━━━━━━━━━━━━━━━━━━━━━━━━━━━━╇━━━━━━━━━━━━━━━━━┩\n",
              "│ conv2d (\u001b[38;5;33mConv2D\u001b[0m)                      │ (\u001b[38;5;45mNone\u001b[0m, \u001b[38;5;34m128\u001b[0m, \u001b[38;5;34m128\u001b[0m, \u001b[38;5;34m32\u001b[0m)        │             \u001b[38;5;34m896\u001b[0m │\n",
              "├──────────────────────────────────────┼─────────────────────────────┼─────────────────┤\n",
              "│ conv2d_1 (\u001b[38;5;33mConv2D\u001b[0m)                    │ (\u001b[38;5;45mNone\u001b[0m, \u001b[38;5;34m126\u001b[0m, \u001b[38;5;34m126\u001b[0m, \u001b[38;5;34m32\u001b[0m)        │           \u001b[38;5;34m9,248\u001b[0m │\n",
              "├──────────────────────────────────────┼─────────────────────────────┼─────────────────┤\n",
              "│ max_pooling2d (\u001b[38;5;33mMaxPooling2D\u001b[0m)         │ (\u001b[38;5;45mNone\u001b[0m, \u001b[38;5;34m63\u001b[0m, \u001b[38;5;34m63\u001b[0m, \u001b[38;5;34m32\u001b[0m)          │               \u001b[38;5;34m0\u001b[0m │\n",
              "├──────────────────────────────────────┼─────────────────────────────┼─────────────────┤\n",
              "│ dropout (\u001b[38;5;33mDropout\u001b[0m)                    │ (\u001b[38;5;45mNone\u001b[0m, \u001b[38;5;34m63\u001b[0m, \u001b[38;5;34m63\u001b[0m, \u001b[38;5;34m32\u001b[0m)          │               \u001b[38;5;34m0\u001b[0m │\n",
              "├──────────────────────────────────────┼─────────────────────────────┼─────────────────┤\n",
              "│ conv2d_2 (\u001b[38;5;33mConv2D\u001b[0m)                    │ (\u001b[38;5;45mNone\u001b[0m, \u001b[38;5;34m63\u001b[0m, \u001b[38;5;34m63\u001b[0m, \u001b[38;5;34m64\u001b[0m)          │          \u001b[38;5;34m18,496\u001b[0m │\n",
              "├──────────────────────────────────────┼─────────────────────────────┼─────────────────┤\n",
              "│ max_pooling2d_1 (\u001b[38;5;33mMaxPooling2D\u001b[0m)       │ (\u001b[38;5;45mNone\u001b[0m, \u001b[38;5;34m31\u001b[0m, \u001b[38;5;34m31\u001b[0m, \u001b[38;5;34m64\u001b[0m)          │               \u001b[38;5;34m0\u001b[0m │\n",
              "├──────────────────────────────────────┼─────────────────────────────┼─────────────────┤\n",
              "│ dropout_1 (\u001b[38;5;33mDropout\u001b[0m)                  │ (\u001b[38;5;45mNone\u001b[0m, \u001b[38;5;34m31\u001b[0m, \u001b[38;5;34m31\u001b[0m, \u001b[38;5;34m64\u001b[0m)          │               \u001b[38;5;34m0\u001b[0m │\n",
              "├──────────────────────────────────────┼─────────────────────────────┼─────────────────┤\n",
              "│ flatten (\u001b[38;5;33mFlatten\u001b[0m)                    │ (\u001b[38;5;45mNone\u001b[0m, \u001b[38;5;34m61504\u001b[0m)               │               \u001b[38;5;34m0\u001b[0m │\n",
              "├──────────────────────────────────────┼─────────────────────────────┼─────────────────┤\n",
              "│ dense (\u001b[38;5;33mDense\u001b[0m)                        │ (\u001b[38;5;45mNone\u001b[0m, \u001b[38;5;34m128\u001b[0m)                 │       \u001b[38;5;34m7,872,640\u001b[0m │\n",
              "├──────────────────────────────────────┼─────────────────────────────┼─────────────────┤\n",
              "│ dropout_2 (\u001b[38;5;33mDropout\u001b[0m)                  │ (\u001b[38;5;45mNone\u001b[0m, \u001b[38;5;34m128\u001b[0m)                 │               \u001b[38;5;34m0\u001b[0m │\n",
              "├──────────────────────────────────────┼─────────────────────────────┼─────────────────┤\n",
              "│ dense_1 (\u001b[38;5;33mDense\u001b[0m)                      │ (\u001b[38;5;45mNone\u001b[0m, \u001b[38;5;34m42\u001b[0m)                  │           \u001b[38;5;34m5,418\u001b[0m │\n",
              "└──────────────────────────────────────┴─────────────────────────────┴─────────────────┘\n"
            ],
            "text/html": [
              "<pre style=\"white-space:pre;overflow-x:auto;line-height:normal;font-family:Menlo,'DejaVu Sans Mono',consolas,'Courier New',monospace\">┏━━━━━━━━━━━━━━━━━━━━━━━━━━━━━━━━━━━━━━┳━━━━━━━━━━━━━━━━━━━━━━━━━━━━━┳━━━━━━━━━━━━━━━━━┓\n",
              "┃<span style=\"font-weight: bold\"> Layer (type)                         </span>┃<span style=\"font-weight: bold\"> Output Shape                </span>┃<span style=\"font-weight: bold\">         Param # </span>┃\n",
              "┡━━━━━━━━━━━━━━━━━━━━━━━━━━━━━━━━━━━━━━╇━━━━━━━━━━━━━━━━━━━━━━━━━━━━━╇━━━━━━━━━━━━━━━━━┩\n",
              "│ conv2d (<span style=\"color: #0087ff; text-decoration-color: #0087ff\">Conv2D</span>)                      │ (<span style=\"color: #00d7ff; text-decoration-color: #00d7ff\">None</span>, <span style=\"color: #00af00; text-decoration-color: #00af00\">128</span>, <span style=\"color: #00af00; text-decoration-color: #00af00\">128</span>, <span style=\"color: #00af00; text-decoration-color: #00af00\">32</span>)        │             <span style=\"color: #00af00; text-decoration-color: #00af00\">896</span> │\n",
              "├──────────────────────────────────────┼─────────────────────────────┼─────────────────┤\n",
              "│ conv2d_1 (<span style=\"color: #0087ff; text-decoration-color: #0087ff\">Conv2D</span>)                    │ (<span style=\"color: #00d7ff; text-decoration-color: #00d7ff\">None</span>, <span style=\"color: #00af00; text-decoration-color: #00af00\">126</span>, <span style=\"color: #00af00; text-decoration-color: #00af00\">126</span>, <span style=\"color: #00af00; text-decoration-color: #00af00\">32</span>)        │           <span style=\"color: #00af00; text-decoration-color: #00af00\">9,248</span> │\n",
              "├──────────────────────────────────────┼─────────────────────────────┼─────────────────┤\n",
              "│ max_pooling2d (<span style=\"color: #0087ff; text-decoration-color: #0087ff\">MaxPooling2D</span>)         │ (<span style=\"color: #00d7ff; text-decoration-color: #00d7ff\">None</span>, <span style=\"color: #00af00; text-decoration-color: #00af00\">63</span>, <span style=\"color: #00af00; text-decoration-color: #00af00\">63</span>, <span style=\"color: #00af00; text-decoration-color: #00af00\">32</span>)          │               <span style=\"color: #00af00; text-decoration-color: #00af00\">0</span> │\n",
              "├──────────────────────────────────────┼─────────────────────────────┼─────────────────┤\n",
              "│ dropout (<span style=\"color: #0087ff; text-decoration-color: #0087ff\">Dropout</span>)                    │ (<span style=\"color: #00d7ff; text-decoration-color: #00d7ff\">None</span>, <span style=\"color: #00af00; text-decoration-color: #00af00\">63</span>, <span style=\"color: #00af00; text-decoration-color: #00af00\">63</span>, <span style=\"color: #00af00; text-decoration-color: #00af00\">32</span>)          │               <span style=\"color: #00af00; text-decoration-color: #00af00\">0</span> │\n",
              "├──────────────────────────────────────┼─────────────────────────────┼─────────────────┤\n",
              "│ conv2d_2 (<span style=\"color: #0087ff; text-decoration-color: #0087ff\">Conv2D</span>)                    │ (<span style=\"color: #00d7ff; text-decoration-color: #00d7ff\">None</span>, <span style=\"color: #00af00; text-decoration-color: #00af00\">63</span>, <span style=\"color: #00af00; text-decoration-color: #00af00\">63</span>, <span style=\"color: #00af00; text-decoration-color: #00af00\">64</span>)          │          <span style=\"color: #00af00; text-decoration-color: #00af00\">18,496</span> │\n",
              "├──────────────────────────────────────┼─────────────────────────────┼─────────────────┤\n",
              "│ max_pooling2d_1 (<span style=\"color: #0087ff; text-decoration-color: #0087ff\">MaxPooling2D</span>)       │ (<span style=\"color: #00d7ff; text-decoration-color: #00d7ff\">None</span>, <span style=\"color: #00af00; text-decoration-color: #00af00\">31</span>, <span style=\"color: #00af00; text-decoration-color: #00af00\">31</span>, <span style=\"color: #00af00; text-decoration-color: #00af00\">64</span>)          │               <span style=\"color: #00af00; text-decoration-color: #00af00\">0</span> │\n",
              "├──────────────────────────────────────┼─────────────────────────────┼─────────────────┤\n",
              "│ dropout_1 (<span style=\"color: #0087ff; text-decoration-color: #0087ff\">Dropout</span>)                  │ (<span style=\"color: #00d7ff; text-decoration-color: #00d7ff\">None</span>, <span style=\"color: #00af00; text-decoration-color: #00af00\">31</span>, <span style=\"color: #00af00; text-decoration-color: #00af00\">31</span>, <span style=\"color: #00af00; text-decoration-color: #00af00\">64</span>)          │               <span style=\"color: #00af00; text-decoration-color: #00af00\">0</span> │\n",
              "├──────────────────────────────────────┼─────────────────────────────┼─────────────────┤\n",
              "│ flatten (<span style=\"color: #0087ff; text-decoration-color: #0087ff\">Flatten</span>)                    │ (<span style=\"color: #00d7ff; text-decoration-color: #00d7ff\">None</span>, <span style=\"color: #00af00; text-decoration-color: #00af00\">61504</span>)               │               <span style=\"color: #00af00; text-decoration-color: #00af00\">0</span> │\n",
              "├──────────────────────────────────────┼─────────────────────────────┼─────────────────┤\n",
              "│ dense (<span style=\"color: #0087ff; text-decoration-color: #0087ff\">Dense</span>)                        │ (<span style=\"color: #00d7ff; text-decoration-color: #00d7ff\">None</span>, <span style=\"color: #00af00; text-decoration-color: #00af00\">128</span>)                 │       <span style=\"color: #00af00; text-decoration-color: #00af00\">7,872,640</span> │\n",
              "├──────────────────────────────────────┼─────────────────────────────┼─────────────────┤\n",
              "│ dropout_2 (<span style=\"color: #0087ff; text-decoration-color: #0087ff\">Dropout</span>)                  │ (<span style=\"color: #00d7ff; text-decoration-color: #00d7ff\">None</span>, <span style=\"color: #00af00; text-decoration-color: #00af00\">128</span>)                 │               <span style=\"color: #00af00; text-decoration-color: #00af00\">0</span> │\n",
              "├──────────────────────────────────────┼─────────────────────────────┼─────────────────┤\n",
              "│ dense_1 (<span style=\"color: #0087ff; text-decoration-color: #0087ff\">Dense</span>)                      │ (<span style=\"color: #00d7ff; text-decoration-color: #00d7ff\">None</span>, <span style=\"color: #00af00; text-decoration-color: #00af00\">42</span>)                  │           <span style=\"color: #00af00; text-decoration-color: #00af00\">5,418</span> │\n",
              "└──────────────────────────────────────┴─────────────────────────────┴─────────────────┘\n",
              "</pre>\n"
            ]
          },
          "metadata": {}
        },
        {
          "output_type": "display_data",
          "data": {
            "text/plain": [
              "\u001b[1m Total params: \u001b[0m\u001b[38;5;34m7,906,698\u001b[0m (30.16 MB)\n"
            ],
            "text/html": [
              "<pre style=\"white-space:pre;overflow-x:auto;line-height:normal;font-family:Menlo,'DejaVu Sans Mono',consolas,'Courier New',monospace\"><span style=\"font-weight: bold\"> Total params: </span><span style=\"color: #00af00; text-decoration-color: #00af00\">7,906,698</span> (30.16 MB)\n",
              "</pre>\n"
            ]
          },
          "metadata": {}
        },
        {
          "output_type": "display_data",
          "data": {
            "text/plain": [
              "\u001b[1m Trainable params: \u001b[0m\u001b[38;5;34m7,906,698\u001b[0m (30.16 MB)\n"
            ],
            "text/html": [
              "<pre style=\"white-space:pre;overflow-x:auto;line-height:normal;font-family:Menlo,'DejaVu Sans Mono',consolas,'Courier New',monospace\"><span style=\"font-weight: bold\"> Trainable params: </span><span style=\"color: #00af00; text-decoration-color: #00af00\">7,906,698</span> (30.16 MB)\n",
              "</pre>\n"
            ]
          },
          "metadata": {}
        },
        {
          "output_type": "display_data",
          "data": {
            "text/plain": [
              "\u001b[1m Non-trainable params: \u001b[0m\u001b[38;5;34m0\u001b[0m (0.00 B)\n"
            ],
            "text/html": [
              "<pre style=\"white-space:pre;overflow-x:auto;line-height:normal;font-family:Menlo,'DejaVu Sans Mono',consolas,'Courier New',monospace\"><span style=\"font-weight: bold\"> Non-trainable params: </span><span style=\"color: #00af00; text-decoration-color: #00af00\">0</span> (0.00 B)\n",
              "</pre>\n"
            ]
          },
          "metadata": {}
        }
      ]
    },
    {
      "cell_type": "code",
      "source": [
        "model.compile(optimizer='adam',loss='sparse_categorical_crossentropy',metrics=['accuracy'])"
      ],
      "metadata": {
        "id": "NcUG2UC3l9Hq"
      },
      "id": "NcUG2UC3l9Hq",
      "execution_count": 8,
      "outputs": []
    },
    {
      "cell_type": "markdown",
      "id": "fe1c0940",
      "metadata": {
        "id": "fe1c0940"
      },
      "source": [
        "## Training the Model\n",
        "Train the CNN model using the training data and validate it on the validation set."
      ]
    },
    {
      "cell_type": "markdown",
      "source": [
        "**Your session crashed after using all available RAM.**\n",
        "i cant ran it"
      ],
      "metadata": {
        "id": "7qAkJLNW00s9"
      },
      "id": "7qAkJLNW00s9"
    },
    {
      "cell_type": "code",
      "execution_count": null,
      "id": "ce31faf9",
      "metadata": {
        "id": "ce31faf9"
      },
      "outputs": [],
      "source": [
        "history = model.fit(datagen.flow(X_train/255.0,y_train/255.0),\n",
        "                    batch_size= 30,\n",
        "                    epochs = 10,\n",
        "                    validation_data = (X_test/255.0,y_test/255.0),\n",
        "                    verbose=1)"
      ]
    },
    {
      "cell_type": "markdown",
      "id": "25ad1b22",
      "metadata": {
        "id": "25ad1b22"
      },
      "source": [
        "## Evaluate the Model\n",
        "Evaluate the performance of the model on the test set."
      ]
    },
    {
      "cell_type": "code",
      "execution_count": null,
      "id": "eb9ed70f",
      "metadata": {
        "id": "eb9ed70f"
      },
      "outputs": [],
      "source": [
        "model.evaluate(X_train,y_train)"
      ]
    },
    {
      "cell_type": "code",
      "source": [
        "model.evaluate(X_test,y_test)"
      ],
      "metadata": {
        "id": "ao58r8ubqXe0"
      },
      "id": "ao58r8ubqXe0",
      "execution_count": null,
      "outputs": []
    },
    {
      "cell_type": "markdown",
      "id": "a37fca33",
      "metadata": {
        "id": "a37fca33"
      },
      "source": [
        "## Make Predictions\n",
        "Use the trained model to make predictions on new or unseen traffic sign images."
      ]
    },
    {
      "cell_type": "markdown",
      "id": "f1ab3608",
      "metadata": {
        "id": "f1ab3608"
      },
      "source": [
        "if you need new, we prepared some data for you [here](https://drive.google.com/file/d/1S_vpQntND9839x8kJpegaEgtSIA4JxHO/view?usp=sharing), or you can simply run the following command to get the data and unzip it.\n",
        "\n",
        "<small>Note: please note that the file contain MetaData to tell you what each image contains <b>THIS IS JUST FOR YOU TO MAKE SURE</b></smmall>"
      ]
    },
    {
      "cell_type": "code",
      "execution_count": null,
      "id": "a7a5c981",
      "metadata": {
        "id": "a7a5c981"
      },
      "outputs": [],
      "source": [
        "#https://drive.google.com/file/d/1S_vpQntND9839x8kJpegaEgtSIA4JxHO/view?usp=sharing\n",
        "!gdown --id 1S_vpQntND9839x8kJpegaEgtSIA4JxHO\n",
        "!unzip Test_Dataset.zip"
      ]
    },
    {
      "cell_type": "code",
      "execution_count": null,
      "id": "be46ba26",
      "metadata": {
        "id": "be46ba26"
      },
      "outputs": [],
      "source": [
        "y_pre=model.predict(X_test)"
      ]
    },
    {
      "cell_type": "markdown",
      "id": "8430600d",
      "metadata": {
        "id": "8430600d"
      },
      "source": [
        "## Model Performance Visualization\n",
        "Visualize performance metrics such as accuracy and loss over the epochs."
      ]
    },
    {
      "cell_type": "code",
      "execution_count": null,
      "id": "50624cfe",
      "metadata": {
        "id": "50624cfe"
      },
      "outputs": [],
      "source": [
        "plt.plot(history.history['loss'])\n",
        "plt.plot(history.history['val_loss'])"
      ]
    },
    {
      "cell_type": "markdown",
      "id": "8d4f3348",
      "metadata": {
        "id": "8d4f3348"
      },
      "source": [
        "## Save the Model\n",
        "Save the trained CNN model for submission."
      ]
    },
    {
      "cell_type": "code",
      "execution_count": null,
      "id": "fe6b2df0",
      "metadata": {
        "id": "fe6b2df0"
      },
      "outputs": [],
      "source": [
        "model.save('my_model')"
      ]
    },
    {
      "cell_type": "markdown",
      "id": "ed90995f",
      "metadata": {
        "id": "ed90995f"
      },
      "source": [
        "## Project Questions:\n",
        "\n",
        "1. **Data Preprocessing**: Explain why you chose your specific data preprocessing techniques (e.g., resizing images, normalization, data augmentation). How do these preprocessing steps improve the performance of your CNN model?\n",
        "2. **Model Architecture**: Describe the architecture of your CNN model (e.g., number of convolutional layers, kernel sizes, pooling layers). Why did you choose this structure, and how do you expect each layer to contribute to feature extraction?\n",
        "3. **Activation Functions**: Justify your choice of activation functions. How do they influence the training and output of your CNN?\n",
        "4. **Training Process**: Discuss your choice of batch size, number of epochs, and optimizer. How did these decisions impact the training process and the convergence of the model?\n",
        "5. **Loss Function and Metrics**: Explain why you chose the specific loss function and evaluation metrics for this classification task. How do they align with the goal of correctly classifying traffic signs?\n",
        "6. **Regularization Techniques**: If you used regularization methods like dropout or batch normalization, explain why you implemented them and how they helped prevent overfitting in your model.\n",
        "7. **Model Evaluation**: Justify the method you used to evaluate your model's performance on the test set. Why did you select these evaluation techniques, and what insights did they provide about your model's accuracy and generalization ability?\n",
        "8. **Model Visualization**: Explain the significance of the performance visualizations (e.g., accuracy and loss curves). What do they tell you about your model's training process and its ability to generalize?\n",
        "9. **Overfitting and Underfitting**: Analyze whether the model encountered any overfitting or underfitting during training. What strategies could you implement to mitigate these issues?"
      ]
    },
    {
      "cell_type": "markdown",
      "id": "02e7f114",
      "metadata": {
        "id": "02e7f114"
      },
      "source": [
        "### Answer Here:"
      ]
    }
  ],
  "metadata": {
    "language_info": {
      "name": "python"
    },
    "colab": {
      "provenance": [],
      "include_colab_link": true
    },
    "kernelspec": {
      "name": "python3",
      "display_name": "Python 3"
    }
  },
  "nbformat": 4,
  "nbformat_minor": 5
}